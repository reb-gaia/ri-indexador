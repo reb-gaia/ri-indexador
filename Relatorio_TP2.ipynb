{
 "cells": [
  {
   "cell_type": "markdown",
   "id": "747717bd",
   "metadata": {},
   "source": [
    "## Relatório - TP2\n",
    "\n",
    "Grupo:\n",
    "- Bruno Xavier\n",
    "- Matheus Vilaça\n",
    "- Rebeca Gaia"
   ]
  },
  {
   "cell_type": "markdown",
   "id": "21e9c015",
   "metadata": {},
   "source": [
    "#### Quais foram os principais desafios e soluções? "
   ]
  },
  {
   "cell_type": "markdown",
   "id": "8700bcbf",
   "metadata": {},
   "source": [
    "- Entender o funcionamento do fluxo do Indexador utilizado como base;\n",
    "- Entender o funcionamento das bibliotecas externas utilizadas;\n",
    "- Entender as diferenças e vantagens entre usar a memória principal ou secundária;\n",
    "- Correção do teste utilzando as stopwords necessárias: foi necessário fazer a subtituição das stopword \"é\" para \"e\", pois a remoção dos acentos é feita antes da verficação das stopwords, portanto nenhuma stopword deveria ter acento."
   ]
  },
  {
   "cell_type": "markdown",
   "id": "2f1330f9",
   "metadata": {},
   "source": [
    "#### Qual é a vantagem/desvantagem das suas soluções sob as outras alternativas (por exemplo, uso do índice em memória principal x ocorrência de termos em memória secundária)? "
   ]
  },
  {
   "cell_type": "markdown",
   "id": "d5efd4eb",
   "metadata": {},
   "source": [
    "- A memória principal é mais rápida em relação à memória secundária, porém normalmente a principal possui uma capacidade inferior a secundária;\n",
    "- A construção do índice é mais fácil de ser implementada em memória principal;"
   ]
  },
  {
   "cell_type": "markdown",
   "id": "895b42c0",
   "metadata": {},
   "source": [
    "#### O que você melhoraria  no seu código para diminuir o consumo de memoria ou deixá-lo mais eficiente?"
   ]
  },
  {
   "cell_type": "markdown",
   "id": "6dd317e2",
   "metadata": {},
   "source": [
    "- Aumentar a quantidade de stopwords utilizadas;\n",
    "- Utilizar uma técnica de stemming mais eficiente;"
   ]
  },
  {
   "cell_type": "markdown",
   "id": "d3900355",
   "metadata": {},
   "source": [
    "#### Quais são as bibliotecas externas utilizadas? Explique o funcionamento da técnica de stemming adotada."
   ]
  },
  {
   "cell_type": "markdown",
   "id": "a25053b2",
   "metadata": {},
   "source": [
    "As bibliotecas utilizadas foram: \n",
    "- nltk\n",
    "- bs4\n",
    "- pickle\n",
    "- gc\n",
    "- os\n",
    "- datetime\n",
    "- math\n",
    "- tracemalloc\n",
    "- unittest\n",
    "- random\n",
    "- typing\n",
    "- threading\n",
    "\n",
    "O Snowball Stemmer é uma ferramenta de processamento de linguagem natural que utiliza um conjunto de regras para extrair a raiz de uma palavra, ou seja, a sua forma básica. O objetivo do Snowball Stemmer é reduzir palavras diferentes que compartilham a mesma raiz a uma forma comum."
   ]
  },
  {
   "cell_type": "markdown",
   "id": "801c9c20",
   "metadata": {},
   "source": [
    "#### Qual foi a estrutura do índice utilizado? "
   ]
  },
  {
   "cell_type": "markdown",
   "id": "981eb1ac",
   "metadata": {},
   "source": [
    "A estrutura do índice utilizada foi: \n",
    "- doc_id: inteiro\n",
    "- term_id: inteiro\n",
    "- term_freq: inteiro"
   ]
  },
  {
   "cell_type": "markdown",
   "id": "4f38326a",
   "metadata": {},
   "source": [
    "#### Quantos MB de ram cada solução de índice gastou?"
   ]
  },
  {
   "cell_type": "markdown",
   "id": "6a35f769",
   "metadata": {},
   "source": [
    "1.5 GB de RAM"
   ]
  },
  {
   "cell_type": "markdown",
   "id": "e3a22e46",
   "metadata": {},
   "source": [
    "#### Em quanto tempo foi realizado a indexação?"
   ]
  },
  {
   "cell_type": "markdown",
   "id": "a86c84b7",
   "metadata": {},
   "source": [
    "De acordo com a previsão do tqdm o tempo total gasto seria de aproximadamente 128 horas."
   ]
  },
  {
   "cell_type": "markdown",
   "id": "b82a9409",
   "metadata": {},
   "source": [
    "#### Qual foi a média por documento?"
   ]
  },
  {
   "cell_type": "markdown",
   "id": "393b870f",
   "metadata": {},
   "source": [
    "9.25 minutos"
   ]
  }
 ],
 "metadata": {
  "kernelspec": {
   "display_name": "Python 3 (ipykernel)",
   "language": "python",
   "name": "python3"
  },
  "language_info": {
   "codemirror_mode": {
    "name": "ipython",
    "version": 3
   },
   "file_extension": ".py",
   "mimetype": "text/x-python",
   "name": "python",
   "nbconvert_exporter": "python",
   "pygments_lexer": "ipython3",
   "version": "3.9.13"
  }
 },
 "nbformat": 4,
 "nbformat_minor": 5
}
